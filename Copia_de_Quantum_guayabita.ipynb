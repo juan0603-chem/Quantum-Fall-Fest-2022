{
  "cells": [
    {
      "cell_type": "markdown",
      "metadata": {
        "id": "sliMx63rMjm9"
      },
      "source": [
        "# Quatum Guayabita\n",
        "Warning: This is a beta version, so is not intended to be \"pretty\", but rather to work!"
      ]
    },
    {
      "cell_type": "code",
      "execution_count": null,
      "metadata": {
        "id": "nz4MBJ7IMjnF",
        "colab": {
          "base_uri": "https://localhost:8080/"
        },
        "outputId": "fce11fb9-211c-4895-f133-796c6a42db7f"
      },
      "outputs": [
        {
          "output_type": "stream",
          "name": "stdout",
          "text": [
            "Looking in indexes: https://pypi.org/simple, https://us-python.pkg.dev/colab-wheels/public/simple/\n",
            "Requirement already satisfied: qiskit in /usr/local/lib/python3.7/dist-packages (0.39.0)\n",
            "Requirement already satisfied: qiskit-terra==0.22.0 in /usr/local/lib/python3.7/dist-packages (from qiskit) (0.22.0)\n",
            "Requirement already satisfied: qiskit-aer==0.11.0 in /usr/local/lib/python3.7/dist-packages (from qiskit) (0.11.0)\n",
            "Requirement already satisfied: qiskit-ibmq-provider==0.19.2 in /usr/local/lib/python3.7/dist-packages (from qiskit) (0.19.2)\n",
            "Requirement already satisfied: numpy>=1.16.3 in /usr/local/lib/python3.7/dist-packages (from qiskit-aer==0.11.0->qiskit) (1.21.6)\n",
            "Requirement already satisfied: scipy>=1.0 in /usr/local/lib/python3.7/dist-packages (from qiskit-aer==0.11.0->qiskit) (1.7.3)\n",
            "Requirement already satisfied: python-dateutil>=2.8.0 in /usr/local/lib/python3.7/dist-packages (from qiskit-ibmq-provider==0.19.2->qiskit) (2.8.2)\n",
            "Requirement already satisfied: websockets>=10.0 in /usr/local/lib/python3.7/dist-packages (from qiskit-ibmq-provider==0.19.2->qiskit) (10.3)\n",
            "Requirement already satisfied: urllib3>=1.21.1 in /usr/local/lib/python3.7/dist-packages (from qiskit-ibmq-provider==0.19.2->qiskit) (1.24.3)\n",
            "Requirement already satisfied: requests-ntlm>=1.1.0 in /usr/local/lib/python3.7/dist-packages (from qiskit-ibmq-provider==0.19.2->qiskit) (1.1.0)\n",
            "Requirement already satisfied: websocket-client>=1.0.1 in /usr/local/lib/python3.7/dist-packages (from qiskit-ibmq-provider==0.19.2->qiskit) (1.4.1)\n",
            "Requirement already satisfied: requests>=2.19 in /usr/local/lib/python3.7/dist-packages (from qiskit-ibmq-provider==0.19.2->qiskit) (2.23.0)\n",
            "Requirement already satisfied: psutil>=5 in /usr/local/lib/python3.7/dist-packages (from qiskit-terra==0.22.0->qiskit) (5.4.8)\n",
            "Requirement already satisfied: sympy>=1.3 in /usr/local/lib/python3.7/dist-packages (from qiskit-terra==0.22.0->qiskit) (1.7.1)\n",
            "Requirement already satisfied: ply>=3.10 in /usr/local/lib/python3.7/dist-packages (from qiskit-terra==0.22.0->qiskit) (3.11)\n",
            "Requirement already satisfied: symengine>=0.9 in /usr/local/lib/python3.7/dist-packages (from qiskit-terra==0.22.0->qiskit) (0.9.2)\n",
            "Requirement already satisfied: dill>=0.3 in /usr/local/lib/python3.7/dist-packages (from qiskit-terra==0.22.0->qiskit) (0.3.5.1)\n",
            "Requirement already satisfied: typing-extensions in /usr/local/lib/python3.7/dist-packages (from qiskit-terra==0.22.0->qiskit) (4.1.1)\n",
            "Requirement already satisfied: importlib-metadata<5.0 in /usr/local/lib/python3.7/dist-packages (from qiskit-terra==0.22.0->qiskit) (4.13.0)\n",
            "Requirement already satisfied: stevedore>=3.0.0 in /usr/local/lib/python3.7/dist-packages (from qiskit-terra==0.22.0->qiskit) (3.5.1)\n",
            "Requirement already satisfied: tweedledum<2.0,>=1.1 in /usr/local/lib/python3.7/dist-packages (from qiskit-terra==0.22.0->qiskit) (1.1.1)\n",
            "Requirement already satisfied: retworkx>=0.11.0 in /usr/local/lib/python3.7/dist-packages (from qiskit-terra==0.22.0->qiskit) (0.12.0)\n",
            "Requirement already satisfied: shared-memory38 in /usr/local/lib/python3.7/dist-packages (from qiskit-terra==0.22.0->qiskit) (0.1.2)\n",
            "Requirement already satisfied: zipp>=0.5 in /usr/local/lib/python3.7/dist-packages (from importlib-metadata<5.0->qiskit-terra==0.22.0->qiskit) (3.9.0)\n",
            "Requirement already satisfied: six>=1.5 in /usr/local/lib/python3.7/dist-packages (from python-dateutil>=2.8.0->qiskit-ibmq-provider==0.19.2->qiskit) (1.15.0)\n",
            "Requirement already satisfied: certifi>=2017.4.17 in /usr/local/lib/python3.7/dist-packages (from requests>=2.19->qiskit-ibmq-provider==0.19.2->qiskit) (2022.9.24)\n",
            "Requirement already satisfied: chardet<4,>=3.0.2 in /usr/local/lib/python3.7/dist-packages (from requests>=2.19->qiskit-ibmq-provider==0.19.2->qiskit) (3.0.4)\n",
            "Requirement already satisfied: idna<3,>=2.5 in /usr/local/lib/python3.7/dist-packages (from requests>=2.19->qiskit-ibmq-provider==0.19.2->qiskit) (2.10)\n",
            "Requirement already satisfied: ntlm-auth>=1.0.2 in /usr/local/lib/python3.7/dist-packages (from requests-ntlm>=1.1.0->qiskit-ibmq-provider==0.19.2->qiskit) (1.5.0)\n",
            "Requirement already satisfied: cryptography>=1.3 in /usr/local/lib/python3.7/dist-packages (from requests-ntlm>=1.1.0->qiskit-ibmq-provider==0.19.2->qiskit) (38.0.1)\n",
            "Requirement already satisfied: cffi>=1.12 in /usr/local/lib/python3.7/dist-packages (from cryptography>=1.3->requests-ntlm>=1.1.0->qiskit-ibmq-provider==0.19.2->qiskit) (1.15.1)\n",
            "Requirement already satisfied: pycparser in /usr/local/lib/python3.7/dist-packages (from cffi>=1.12->cryptography>=1.3->requests-ntlm>=1.1.0->qiskit-ibmq-provider==0.19.2->qiskit) (2.21)\n",
            "Requirement already satisfied: rustworkx==0.12.0 in /usr/local/lib/python3.7/dist-packages (from retworkx>=0.11.0->qiskit-terra==0.22.0->qiskit) (0.12.0)\n",
            "Requirement already satisfied: pbr!=2.1.0,>=2.0.0 in /usr/local/lib/python3.7/dist-packages (from stevedore>=3.0.0->qiskit-terra==0.22.0->qiskit) (5.10.0)\n",
            "Requirement already satisfied: mpmath>=0.19 in /usr/local/lib/python3.7/dist-packages (from sympy>=1.3->qiskit-terra==0.22.0->qiskit) (1.2.1)\n"
          ]
        }
      ],
      "source": [
        "#Libraries\n",
        "!pip install qiskit\n",
        "import numpy as np\n",
        "import matplotlib.pyplot as plt\n",
        "from qiskit import QuantumCircuit, transpile,QuantumRegister,ClassicalRegister\n",
        "from qiskit.circuit.quantumcircuit import string\n",
        "import qiskit.quantum_info as qi\n",
        "from qiskit.providers.aer import QasmSimulator\n",
        "from qiskit.visualization import plot_histogram\n",
        "\n",
        "\n",
        "# Notation\n",
        "rng = np.random.default_rng() # numpy random number generator\n",
        "simulator = QasmSimulator() # set qiskit quantum simulator: Aer's qasm_simulator"
      ]
    },
    {
      "cell_type": "code",
      "source": [
        "def Q_uniform_strategy(dice_result, player_money, bank_money,alpha, beta):\n",
        "  \n",
        "  \"\"\"\n",
        "  Q_uniform_strategy:\n",
        "  Unitary implementation of the strategy_1 in the classical circuit.\n",
        "\n",
        "  * Classical inputs:\n",
        "  - dice_result:   First dice value in the round\n",
        "  - player_money:  Player attribute (or bank attribute) counting the available money of the player\n",
        "  - bank_money:    bank attribute counting the money in the game.\n",
        "\n",
        "  * \"Quantum\" inputs:\n",
        "     In the quantum case the strategy is now an unitary matrix given by, \n",
        "                 U=R_{z}(\\alpha)R_{y}(-2\\theta_{l})R_{z}(\\beta).\n",
        "     with R_{x},R_{z},R_{y} the usual rotation matrices (as implemented in Qiskit) and theta_{l} the rotation angles determined by the dice input.\n",
        "    \n",
        "    Pdta: Notice that in order to obtain interesting effects, we must enhance the interference between the phases, e.g \\alpha \\neq \\beta.\n",
        "  \"\"\"\n",
        "  \n",
        "  # Define the step function according to the money available.\n",
        "  aval = np.heaviside(player_money-bank_money, 0)  \n",
        "\n",
        "  #define the rotation angles\n",
        "  theta=np.arccos([np.sqrt(5.0/6),np.sqrt(4.0/6),np.sqrt(3.0/6),np.sqrt(2.0/6),np.sqrt(1.0/6),0.0])\n",
        "\n",
        "  U_strategy=QuantumCircuit(1)\n",
        "  \n",
        "\n",
        "  if aval == 0:\n",
        "    U_strategy.x(0) # if there is no enough money then gambling->No gambling\n",
        "  else:\n",
        "    U_strategy.rz(beta,0)\n",
        "    U_strategy.ry(-2*theta[dice_result-1],0)\n",
        "    U_strategy.rz(alpha,0)\n",
        "\n",
        "  return U_strategy\n",
        "\n",
        "#Example: if player_money>bank_money and dice_result=3, we want to have equal probabilities to gamble or not gamble.\n",
        "\n",
        "Q_uniform_strategy(3,3,2,1,1).draw()"
      ],
      "metadata": {
        "colab": {
          "base_uri": "https://localhost:8080/",
          "height": 63
        },
        "id": "ADdnHHPuNT6d",
        "outputId": "57adf6d7-d6b1-46bf-f42b-9d6a301c1bcc"
      },
      "execution_count": null,
      "outputs": [
        {
          "output_type": "execute_result",
          "data": {
            "text/plain": [
              "   ┌───────┐┌──────────┐┌───────┐\n",
              "q: ┤ Rz(1) ├┤ Ry(-π/2) ├┤ Rz(1) ├\n",
              "   └───────┘└──────────┘└───────┘"
            ],
            "text/html": [
              "<pre style=\"word-wrap: normal;white-space: pre;background: #fff0;line-height: 1.1;font-family: &quot;Courier New&quot;,Courier,monospace\">   ┌───────┐┌──────────┐┌───────┐\n",
              "q: ┤ Rz(1) ├┤ Ry(-π/2) ├┤ Rz(1) ├\n",
              "   └───────┘└──────────┘└───────┘</pre>"
            ]
          },
          "metadata": {},
          "execution_count": 76
        }
      ]
    },
    {
      "cell_type": "code",
      "source": [
        "class Bank():\n",
        "\n",
        "  def __init__(self, money_a, money_b, Bank_money):\n",
        "    self.A_money = money_a\n",
        "    self.B_money = money_b\n",
        "    self.Bank_money = Bank_money\n",
        "  "
      ],
      "metadata": {
        "id": "SZ-Io54fNXd3"
      },
      "execution_count": null,
      "outputs": []
    },
    {
      "cell_type": "code",
      "source": [
        "# Usual Bell entangler \n",
        "Entangler=QuantumCircuit(2)\n",
        "Entangler.h(0)\n",
        "Entangler.cnot(0,1)\n",
        "\n",
        "#usual Bell disentangler\n",
        "D_Entangler=QuantumCircuit(2)\n",
        "D_Entangler.cnot(0,1)\n",
        "D_Entangler.h(0)"
      ],
      "metadata": {
        "colab": {
          "base_uri": "https://localhost:8080/"
        },
        "id": "tAWyI96_NcIN",
        "outputId": "aaa71027-c206-4599-9b5d-2d9d38e9d1ee"
      },
      "execution_count": null,
      "outputs": [
        {
          "output_type": "execute_result",
          "data": {
            "text/plain": [
              "<qiskit.circuit.instructionset.InstructionSet at 0x7f20fbae3c10>"
            ]
          },
          "metadata": {},
          "execution_count": 78
        }
      ]
    },
    {
      "cell_type": "code",
      "source": [
        "def Round_call():\n",
        "    alpha=np.pi/4\n",
        "    beta=0\n",
        "\n",
        "    player=QuantumRegister(2, \"player\")\n",
        "    cr0=ClassicalRegister(1, \"player1_wins\")\n",
        "    cr1=ClassicalRegister(1, \"player1_loses\")\n",
        "    cr2=ClassicalRegister(1, \"player2_win\")\n",
        "    cr3=ClassicalRegister(1, \"player2_loses\")  #here is the trick, I will use 4 classical registers!\n",
        "\n",
        "    bank=Bank(0,0,0) #initialize the bank to an arbitrary value!\n",
        "    Round=QuantumCircuit(player,cr0,cr1,cr2,cr3)  #initialize the circuit\n",
        "\n",
        "\n",
        "    #Round.compose(Entangler,inplace=True)\n",
        "    Round.barrier(0,1)\n",
        "\n",
        "    A_dice1=rng.integers(1,7) #first outcome of Alice's dice\n",
        "    A_dice2=rng.integers(1,7) #second outcome of Alice's dice\n",
        "\n",
        "    B_dice1=rng.integers(1,7) #first outcome of Bob's dice\n",
        "    B_dice2=rng.integers(1,7) #second outcome of Bob's dice\n",
        "\n",
        "\n",
        "    # In the quantum case, the players can win or loose even if they hadn't played yet!\n",
        "\n",
        "    A_qstrategy=Q_uniform_strategy(1,bank.A_money,bank.Bank_money,alpha,beta) #alice strategy\n",
        "    AQS=qi.Operator(A_qstrategy)\n",
        "\n",
        "    Round.compose(Entangler,qubits=[0, 1], inplace=True) #Entangler\n",
        "\n",
        "    Round.unitary(AQS,qubits=[0],label=\"player_1_strategy\")\n",
        "    Round.barrier(0,1)\n",
        "\n",
        "    \"\"\"\n",
        "    Here we are going to do the following trick: in order to distinguish between the win or lose cases when we are reading the counts, we are going to codify the win/lose cases as follows:\n",
        "    *) if player win ==> the classical bit in the first register of the player is going to be opposite to the classical bit in the second register\n",
        "    *) if player lose ===> the classical bit in the first register of the player is going to be equal to the one the classical bit on the second register \n",
        "    \"\"\"\n",
        "\n",
        "\n",
        "    if A_dice1<A_dice2: #Won!\n",
        "    \n",
        "        Round.measure(player[0],cr0[0]) # store the Won outcome in the first classical register\n",
        "        #As this is the win case we must negate the measure and store in the second classical register\n",
        "        Round.x(player[0])\n",
        "        Round.measure(player[0],cr1[0]) \n",
        "        Round.barrier(0,1)\n",
        "   \n",
        "        #Now, If Alice won, Bob strategy is determined by one of the following Bank states:\n",
        "        #-) [A_money+bank_money,B_money,0] ~ Alice Won by gambling all (AWG)\n",
        "        #-) [A_money+1,B_money,Bank_money-1] ~ Alice Won by Not Gambling (AWNG)\n",
        "    \n",
        "  \n",
        "        B_qstrategy1=Q_uniform_strategy(B_dice1,bank.B_money,0,alpha,beta) #Bob first strategy\n",
        "        B_qstrategy2=Q_uniform_strategy(B_dice1,bank.B_money,bank.Bank_money-1,alpha,beta) #Bob second strategy\n",
        "    \n",
        "        BQS1, BQS2 = qi.Operator(B_qstrategy1), qi.Operator(B_qstrategy2) #Pass strategies to unitaries to use the c_if later\n",
        "    \n",
        "        Round.unitary(BQS1,qubits=[1],label=\"player1_strategy\").c_if(cr0, 0)\n",
        "        Round.unitary(BQS2,qubits=[1], label=\"player1_strategy\").c_if(cr0, 1)  \n",
        "\n",
        "        Round.barrier(0,1)\n",
        "        if B_dice1<B_dice2:\n",
        "            Round.measure(player[1],cr2[0]) #measure the second player  winning gambling outcome in the third qubit\n",
        "            Round.x(player[1])\n",
        "            Round.measure(player[1],cr3[0])\n",
        "        else:\n",
        "            Round.measure(player[1],cr3[0]) #measure the second player  losing gambling outcome in the four qubit\n",
        "            Round.measure(player[1],cr2[0])\n",
        "    \n",
        "\n",
        "\n",
        "    else: #lose!\n",
        "   \n",
        "        Round.measure(player[0],cr1[0]) # store the lose in the second classical register\n",
        "        #As this is the lose case both the first and second classical registers must be the same\n",
        "        Round.measure(player[0],cr0[0]) \n",
        "        Round.barrier(0,1)\n",
        "   \n",
        "        #  Now, If Alice lose, Bob strategy is determined by one of the following Bank states:\n",
        "        #  -) [A_money-bank_money,B_money,2*bank_money] ~ Alice Lose by Gambling all (ALG)\n",
        "        # -) [A_money-1,B_money,Bank_money+1] ~ Alice Lose by No Gambling (ALNG)\n",
        "   \n",
        "        B_qstrategy3=Q_uniform_strategy(B_dice1,bank.B_money,2*bank.Bank_money,alpha,beta) #Bob third strategy\n",
        "        B_qstrategy4=Q_uniform_strategy(B_dice1,bank.B_money,bank.Bank_money+1,alpha,beta) #Bob fourth strategy\n",
        "\n",
        "        BQS3, BQS4 = qi.Operator(B_qstrategy3), qi.Operator(B_qstrategy4)\n",
        "\n",
        "        Round.unitary(BQS3,qubits=[1],label=\"player2_strategy\").c_if(cr1, 0)\n",
        "        Round.unitary(BQS4,qubits=[1],label=\"player2_strategy\").c_if(cr1, 1)  \n",
        "\n",
        "        Round.barrier(0,1)\n",
        "        if B_dice1<B_dice2:\n",
        "            Round.measure(player[1],cr2[0]) #measure the second player  winning gambling outcome in the third qubit\n",
        "            Round.x(player[1])\n",
        "            Round.measure(player[1],cr3[0])\n",
        "        else:\n",
        "            Round.measure(player[1],cr3[0]) #measure the second player  losing gambling outcome in the four qubit\n",
        "            Round.measure(player[1],cr2[0])\n",
        "    Round.barrier(0,1)\n",
        "    return(Round)\n",
        "    "
      ],
      "metadata": {
        "id": "JIpWS_3wNf5n"
      },
      "execution_count": null,
      "outputs": []
    },
    {
      "cell_type": "code",
      "execution_count": null,
      "metadata": {
        "id": "9zAtbP18MjnQ"
      },
      "outputs": [],
      "source": [
        "def string_to_money(count):\n",
        "    \"\"\"\"\n",
        "    string_to_money: converts and outcome of the quantum simulation and turns in into an valid transaction on the bank\n",
        "    -count: a classical binary string of length four, i.e \"0011\".\n",
        "    \"\"\"\n",
        "    count=count[::2] # eliminate the odd spaces in the count format, i.e \"0 0 1 0\"->\"0010\"\n",
        "    \n",
        "#===================Check the first player==============================#\n",
        "\n",
        "    if int(count[2])^int(count[3])==1: # the first player win!\n",
        "\n",
        "        if int(count[3])==0:#the first player win and bet all\n",
        "            bank.A_money=bank.A_money+bank.Bank_money\n",
        "            bank.Bank_money=0\n",
        "        else: #the first player win and bet nothing\n",
        "            bank.A_money=bank.A_money+1\n",
        "            bank.Bank_money=bank.Bank_money-1\n",
        "    else: #the first player lose\n",
        "\n",
        "        if int(count[3])==0:#the first player lose and bet all\n",
        "            bank.A_money=bank.A_money-bank.Bank_money\n",
        "            bank.Bank_money=2*bank.Bank_money\n",
        "        else: #the first player lose and bet nothing\n",
        "            bank.A_money=bank.A_money-1\n",
        "            bank.Bank_money=bank.Bank_money+1 \n",
        "\n",
        "\n",
        "\n",
        "\n",
        "#===================Check the second player==============================#    \n",
        "    \n",
        "    if int(count[0])^int(count[1])==1: # the second player win!\n",
        "        if int(count[1])==0:#the second player win and bet all\n",
        "            bank.B_money=bank.B_money+bank.Bank_money\n",
        "            bank.Bank_money=0\n",
        "        else: #the second player win and bet nothing\n",
        "            bank.B_money=bank.B_money+1\n",
        "            bank.Bank_money=bank.Bank_money-1\n",
        "    else: #the second player lose\n",
        "\n",
        "        if int(count[1])==0:#the second player lose and bet all\n",
        "            bank.B_money=bank.B_money-bank.Bank_money\n",
        "            bank.Bank_money=2*bank.Bank_money\n",
        "        else: #the second player lose and bet nothing\n",
        "            bank.B_money=bank.B_money-1\n",
        "            bank.Bank_money=bank.Bank_money+1 \n",
        "         \n",
        "           "
      ]
    },
    {
      "cell_type": "code",
      "source": [
        "\n",
        "turns=1000\n",
        "\n",
        "#initialize the bank\n",
        "bank=Bank(100,100,2) #alice and bob money's\n",
        "\n",
        "AliceM=[]\n",
        "BobM=[]\n",
        "tableM=[]\n",
        "\n",
        "for i in range(turns):\n",
        "    sample=Round_call()\n",
        "    compiled_circuit = transpile(sample, simulator)\n",
        "    job = simulator.run(compiled_circuit, shots=1)\n",
        "    result = job.result()\n",
        "    counts = result.get_counts(sample)\n",
        "\n",
        "    for i in counts:\n",
        "        x=i\n",
        "\n",
        "    string_to_money(x)\n",
        "    print(i)\n",
        "\n",
        "    if ((bank.A_money<0) or (bank.B_money< 0) or (bank.Bank_money< 0)):\n",
        "        break\n",
        "\n",
        "    AliceM.append(bank.A_money)\n",
        "    BobM.append(bank.B_money)\n",
        "    tableM.append(bank.Bank_money)"
      ],
      "metadata": {
        "colab": {
          "base_uri": "https://localhost:8080/"
        },
        "id": "gSiQ1x68NyyD",
        "outputId": "77c5337c-fb37-45cc-a575-cc0fc249159c"
      },
      "execution_count": null,
      "outputs": [
        {
          "output_type": "stream",
          "name": "stdout",
          "text": [
            "0 0 0 0\n",
            "1 0 0 1\n",
            "0 0 0 0\n",
            "1 0 0 0\n",
            "1 1 1 1\n",
            "0 0 0 0\n",
            "0 0 0 0\n",
            "1 1 1 1\n",
            "1 0 0 0\n",
            "0 0 1 0\n",
            "0 0 1 0\n",
            "0 0 1 0\n",
            "0 0 0 0\n",
            "0 0 1 0\n",
            "0 0 0 0\n",
            "1 0 0 0\n",
            "1 1 1 1\n",
            "1 1 0 1\n",
            "1 0 0 0\n",
            "0 0 1 0\n",
            "1 0 0 0\n",
            "1 0 0 0\n",
            "1 1 1 1\n",
            "1 1 1 1\n",
            "1 1 1 1\n",
            "0 0 1 0\n",
            "1 1 1 1\n",
            "1 0 0 1\n",
            "1 0 0 0\n",
            "1 0 0 0\n",
            "1 1 1 1\n",
            "0 0 0 0\n",
            "1 1 1 1\n",
            "1 1 0 1\n",
            "0 0 1 0\n",
            "1 1 0 1\n",
            "0 0 0 1\n"
          ]
        }
      ]
    },
    {
      "cell_type": "code",
      "source": [
        "# print(AliceM)\n",
        "\n",
        "b_MM = np.zeros(len(AliceM))\n",
        "for i in range (len(AliceM)):\n",
        "    b_MM[i]=AliceM[i]+BobM[i]+tableM[i]\n",
        "    print(b_MM[i])\n",
        "\n",
        "x=np.arange(0,len(AliceM),1)\n",
        "plt.plot(x,AliceM, label=\"Alice Money\")\n",
        "plt.plot(x,BobM, label=\"Bob Money\")\n",
        "plt.plot(x,tableM, label=\"Bank Money\")\n",
        "plt.plot(x,b_MM,label=\"Total Money\")\n",
        "#plt.set_xlabel(\"turn\")\n",
        "# plt.plot(x,b_MM) #here is a mistake that i must check tomorrow\n",
        "plt.legend()\n",
        "#plt.plot(range(turns),BobM)\n",
        "plt.show()"
      ],
      "metadata": {
        "colab": {
          "base_uri": "https://localhost:8080/",
          "height": 918
        },
        "id": "xiKPzENaN4Z9",
        "outputId": "19307cd0-b9b0-4025-e3d9-f18231b6f011"
      },
      "execution_count": null,
      "outputs": [
        {
          "output_type": "stream",
          "name": "stdout",
          "text": [
            "202.0\n",
            "202.0\n",
            "202.0\n",
            "202.0\n",
            "202.0\n",
            "202.0\n",
            "202.0\n",
            "202.0\n",
            "202.0\n",
            "202.0\n",
            "202.0\n",
            "202.0\n",
            "202.0\n",
            "202.0\n",
            "202.0\n",
            "202.0\n",
            "202.0\n",
            "202.0\n",
            "202.0\n",
            "202.0\n",
            "202.0\n",
            "202.0\n",
            "202.0\n",
            "202.0\n",
            "202.0\n",
            "202.0\n",
            "202.0\n",
            "202.0\n",
            "202.0\n",
            "202.0\n",
            "202.0\n",
            "202.0\n",
            "202.0\n",
            "202.0\n",
            "202.0\n",
            "202.0\n"
          ]
        },
        {
          "output_type": "display_data",
          "data": {
            "text/plain": [
              "<Figure size 432x288 with 1 Axes>"
            ],
            "image/png": "[encoded data removed]"
          },
          "metadata": {
            "needs_background": "light"
          }
        }
      ]
    }
  ],
  "metadata": {
    "kernelspec": {
      "display_name": "Python 3.8.5 64-bit ('base')",
      "language": "python",
      "name": "python3"
    },
    "language_info": {
      "codemirror_mode": {
        "name": "ipython",
        "version": 3
      },
      "file_extension": ".py",
      "mimetype": "text/x-python",
      "name": "python",
      "nbconvert_exporter": "python",
      "pygments_lexer": "ipython3",
      "version": "3.8.5"
    },
    "orig_nbformat": 4,
    "vscode": {
      "interpreter": {
        "hash": "8fe1d99baae534ed39f4c1f52eb5a0f5aba00f58df1f5660d190dad2c4010911"
      }
    },
    "colab": {
      "provenance": [],
      "collapsed_sections": []
    }
  },
  "nbformat": 4,
  "nbformat_minor": 0
}